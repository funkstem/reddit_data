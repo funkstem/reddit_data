{
 "cells": [
  {
   "cell_type": "code",
   "execution_count": 5,
   "metadata": {},
   "outputs": [
    {
     "name": "stdout",
     "output_type": "stream",
     "text": [
      "Requirement already satisfied: praw in c:\\users\\qsfun\\appdata\\local\\programs\\python\\python312\\lib\\site-packages (7.7.1)\n",
      "Requirement already satisfied: prawcore<3,>=2.1 in c:\\users\\qsfun\\appdata\\local\\programs\\python\\python312\\lib\\site-packages (from praw) (2.4.0)\n",
      "Requirement already satisfied: update-checker>=0.18 in c:\\users\\qsfun\\appdata\\local\\programs\\python\\python312\\lib\\site-packages (from praw) (0.18.0)\n",
      "Requirement already satisfied: websocket-client>=0.54.0 in c:\\users\\qsfun\\appdata\\local\\programs\\python\\python312\\lib\\site-packages (from praw) (1.7.0)\n",
      "Requirement already satisfied: requests<3.0,>=2.6.0 in c:\\users\\qsfun\\appdata\\local\\programs\\python\\python312\\lib\\site-packages (from prawcore<3,>=2.1->praw) (2.31.0)\n",
      "Requirement already satisfied: charset-normalizer<4,>=2 in c:\\users\\qsfun\\appdata\\local\\programs\\python\\python312\\lib\\site-packages (from requests<3.0,>=2.6.0->prawcore<3,>=2.1->praw) (3.3.2)\n",
      "Requirement already satisfied: idna<4,>=2.5 in c:\\users\\qsfun\\appdata\\local\\programs\\python\\python312\\lib\\site-packages (from requests<3.0,>=2.6.0->prawcore<3,>=2.1->praw) (3.6)\n",
      "Requirement already satisfied: urllib3<3,>=1.21.1 in c:\\users\\qsfun\\appdata\\local\\programs\\python\\python312\\lib\\site-packages (from requests<3.0,>=2.6.0->prawcore<3,>=2.1->praw) (2.0.7)\n",
      "Requirement already satisfied: certifi>=2017.4.17 in c:\\users\\qsfun\\appdata\\local\\programs\\python\\python312\\lib\\site-packages (from requests<3.0,>=2.6.0->prawcore<3,>=2.1->praw) (2024.2.2)\n"
     ]
    }
   ],
   "source": [
    "!pip3 install praw"
   ]
  },
  {
   "cell_type": "code",
   "execution_count": 1,
   "metadata": {},
   "outputs": [],
   "source": [
    "#!pip install praw\n",
    "import praw"
   ]
  },
  {
   "cell_type": "code",
   "execution_count": 2,
   "metadata": {},
   "outputs": [],
   "source": [
    "reddit = praw.Reddit(\n",
    "    client_id= 'bVuxdtCy1wALjd8xwlGG7g',\n",
    "    client_secret= '6P_8hq_LpZrAaBUfXGPmT1QnnJjHJA',\n",
    "    user_agent=\"qs_milk\",\n",
    "    #check_for_async=False,\n",
    "    username='Consistent_Song_4010',\n",
    "    password='Qslongyi1!'\n",
    ")"
   ]
  },
  {
   "cell_type": "code",
   "execution_count": 3,
   "metadata": {},
   "outputs": [],
   "source": [
    "subreddit=reddit.subreddit(\"python\")\n",
    "top_posts=subreddit.top(limit=10)\n",
    "new_posts=subreddit.new(limit=10)"
   ]
  },
  {
   "cell_type": "code",
   "execution_count": 4,
   "metadata": {},
   "outputs": [
    {
     "name": "stdout",
     "output_type": "stream",
     "text": [
      "Title -  Lad wrote a Python script to download Alexa voice recordings, he didn't expect this email.\n",
      "URL -  https://i.redd.it/2s0dj8ob12u41.png\n",
      "Title -  This post has:\n",
      "URL -  https://www.reddit.com/r/Python/comments/hoolsm/this_post_has/\n",
      "Title -  I redesign the Python logo to make it more modern\n",
      "URL -  https://i.redd.it/rxezjyf4ojx41.png\n",
      "Title -  Automate the boring stuff with python - tinder\n",
      "URL -  https://gfycat.com/PointlessSimplisticAmericanquarterhorse\n",
      "Title -  Just finished programming and building my own smart mirror in python, wrote all of the code myself and implemented my own voice control and facial recognition features\n",
      "URL -  https://i.redd.it/24ug9g82dju31.jpg\n",
      "Title -  I'm excited to share my first published book, Introduction to Python Programming for Business and Social Science Applications -- specifically geared towards students not specifically in computer science\n",
      "URL -  https://i.redd.it/ebmh8z3c8rm51.png\n",
      "Title -  Drawing Mona Lisa with 256 circles using evolution [Github repo in comments]\n",
      "URL -  https://v.redd.it/nyzyx7uyfwz41\n",
      "Title -  I made a simulation using Python in which a neural network learns to race\n",
      "URL -  https://v.redd.it/bgmc6q20ela51\n",
      "Title -  Thanks to everyone’s advice, my mouse drawing algorithm has gotten much better and faster!\n",
      "URL -  https://v.redd.it/sktc30zom7y41\n",
      "Title -  Debugging Cheat Sheet\n",
      "URL -  https://i.redd.it/p1i8awsivji51.jpg\n"
     ]
    }
   ],
   "source": [
    "for post in top_posts:\n",
    "    print(\"Title - \",post.title)\n",
    "    print(\"URL - \",post.url)"
   ]
  }
 ],
 "metadata": {
  "kernelspec": {
   "display_name": "Python 3",
   "language": "python",
   "name": "python3"
  },
  "language_info": {
   "codemirror_mode": {
    "name": "ipython",
    "version": 3
   },
   "file_extension": ".py",
   "mimetype": "text/x-python",
   "name": "python",
   "nbconvert_exporter": "python",
   "pygments_lexer": "ipython3",
   "version": "3.12.1"
  }
 },
 "nbformat": 4,
 "nbformat_minor": 2
}
